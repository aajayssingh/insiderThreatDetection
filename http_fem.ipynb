{
 "metadata": {
  "language_info": {
   "codemirror_mode": {
    "name": "ipython",
    "version": 3
   },
   "file_extension": ".py",
   "mimetype": "text/x-python",
   "name": "python",
   "nbconvert_exporter": "python",
   "pygments_lexer": "ipython3",
   "version": "3.8.3-final"
  },
  "orig_nbformat": 2,
  "kernelspec": {
   "name": "python3",
   "display_name": "Python 3"
  }
 },
 "nbformat": 4,
 "nbformat_minor": 2,
 "cells": [
  {
   "cell_type": "code",
   "execution_count": 1,
   "metadata": {},
   "outputs": [],
   "source": [
    "#imports\n",
    "import pandas as pd\n",
    "from helper import pickle_store, pickle_restore\n",
    "import dateutil\n",
    "from adem import *\n",
    "from collections import Counter \n",
    "\n",
    "\n",
    "# #fetch all rawdata and save as pickle format for speed.\n",
    "# http_raw_df = pd.read_csv(\"r4.2/http.csv\") # 2629979 rows, 11 columns\n",
    "# # Select small data till 1 April\n",
    "# pickle_store(\"http_rawdf_file\", http_raw_df) #raw means not indexed by Timeindex\n"
   ]
  },
  {
   "cell_type": "code",
   "execution_count": 3,
   "metadata": {},
   "outputs": [
    {
     "output_type": "stream",
     "name": "stdout",
     "text": [
      "read df...\n"
     ]
    }
   ],
   "source": [
    "http_raw_df = pickle_restore(\"http_rawdf_file\")\n",
    "dev_act_feature_df=http_raw_df[['user', 'date', 'url']]\n",
    "\n",
    "print(\"read df...\")"
   ]
  },
  {
   "cell_type": "code",
   "execution_count": 20,
   "metadata": {},
   "outputs": [
    {
     "output_type": "stream",
     "name": "stdout",
     "text": [
      "read...\n",
      "cmnty prep...\n"
     ]
    }
   ],
   "source": [
    "dev_act_feature_df = dev_act_feature_df[:5590000] #data till 2 April\n",
    "\n",
    "print('read...')\n",
    "dev_act_feature_df['date'] = pd.to_datetime(dev_act_feature_df['date'])\n",
    "mask = dev_act_feature_df['date'] <= end_d\n",
    "dev_act_feature_df = dev_act_feature_df.loc[mask]\n",
    "\n",
    "\n",
    "print('cmnty prep...')\n",
    "\n",
    "\n",
    "#create a copy of orig df so that I can separately process for ubp pbp and cbp\n",
    "dev_act_feature_cmnty_df = dev_act_feature_df.copy()\n",
    "dev_act_feature_peer_df = dev_act_feature_df.copy()\n",
    "\n",
    "# 1. in email_freq_feature_df add community and peer column with id as values.\n",
    "usr_cmnty_map = pickle_restore(\"community_louvian_file\")\n",
    "dev_act_feature_cmnty_df['cmnty']=dev_act_feature_cmnty_df.apply(lambda row: usr_cmnty_map[row.user], axis=1)\n",
    "\n",
    "usr_peer_map = pickle_restore(\"eid_role_map_file\")\n",
    "dev_act_feature_peer_df['peer']=dev_act_feature_peer_df.apply(lambda row: usr_peer_map[row.user], axis=1)\n"
   ]
  }
 ]
}